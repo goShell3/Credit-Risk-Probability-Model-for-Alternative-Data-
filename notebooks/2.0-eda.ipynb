{
 "cells": [
  {
   "cell_type": "code",
   "id": "8cb3f792",
   "metadata": {
    "ExecuteTime": {
     "end_time": "2025-07-01T17:07:05.313665Z",
     "start_time": "2025-07-01T17:07:04.660974Z"
    }
   },
   "source": [
    "import pandas as pd\n",
    "import matplotlib.pyplot as plt \n",
    "import numpy as np\n",
    "import seaborn as sns\n",
    "\n",
    "from src.feature_engineering import CustomerAggregateFeature, DateTimeFeatureExtractor, build_full_pipeline"
   ],
   "outputs": [],
   "execution_count": 1
  },
  {
   "metadata": {
    "ExecuteTime": {
     "end_time": "2025-07-01T17:07:05.967117Z",
     "start_time": "2025-07-01T17:07:05.506296Z"
    }
   },
   "cell_type": "code",
   "source": [
    "# Load raw data\n",
    "df = pd.read_csv(\"../data/raw/data - data.csv\")\n",
    "df.head()\n"
   ],
   "id": "8e5d711c965246f2",
   "outputs": [
    {
     "data": {
      "text/plain": [
       "         TransactionId         BatchId       AccountId       SubscriptionId  \\\n",
       "0  TransactionId_76871   BatchId_36123  AccountId_3957   SubscriptionId_887   \n",
       "1  TransactionId_73770   BatchId_15642  AccountId_4841  SubscriptionId_3829   \n",
       "2  TransactionId_26203   BatchId_53941  AccountId_4229   SubscriptionId_222   \n",
       "3    TransactionId_380  BatchId_102363   AccountId_648  SubscriptionId_2185   \n",
       "4  TransactionId_28195   BatchId_38780  AccountId_4841  SubscriptionId_3829   \n",
       "\n",
       "        CustomerId CurrencyCode  CountryCode    ProviderId     ProductId  \\\n",
       "0  CustomerId_4406          UGX          256  ProviderId_6  ProductId_10   \n",
       "1  CustomerId_4406          UGX          256  ProviderId_4   ProductId_6   \n",
       "2  CustomerId_4683          UGX          256  ProviderId_6   ProductId_1   \n",
       "3   CustomerId_988          UGX          256  ProviderId_1  ProductId_21   \n",
       "4   CustomerId_988          UGX          256  ProviderId_4   ProductId_6   \n",
       "\n",
       "      ProductCategory    ChannelId   Amount  Value  TransactionStartTime  \\\n",
       "0             airtime  ChannelId_3   1000.0   1000  2018-11-15T02:18:49Z   \n",
       "1  financial_services  ChannelId_2    -20.0     20  2018-11-15T02:19:08Z   \n",
       "2             airtime  ChannelId_3    500.0    500  2018-11-15T02:44:21Z   \n",
       "3        utility_bill  ChannelId_3  20000.0  21800  2018-11-15T03:32:55Z   \n",
       "4  financial_services  ChannelId_2   -644.0    644  2018-11-15T03:34:21Z   \n",
       "\n",
       "   PricingStrategy  FraudResult  \n",
       "0                2            0  \n",
       "1                2            0  \n",
       "2                2            0  \n",
       "3                2            0  \n",
       "4                2            0  "
      ],
      "text/html": [
       "<div>\n",
       "<style scoped>\n",
       "    .dataframe tbody tr th:only-of-type {\n",
       "        vertical-align: middle;\n",
       "    }\n",
       "\n",
       "    .dataframe tbody tr th {\n",
       "        vertical-align: top;\n",
       "    }\n",
       "\n",
       "    .dataframe thead th {\n",
       "        text-align: right;\n",
       "    }\n",
       "</style>\n",
       "<table border=\"1\" class=\"dataframe\">\n",
       "  <thead>\n",
       "    <tr style=\"text-align: right;\">\n",
       "      <th></th>\n",
       "      <th>TransactionId</th>\n",
       "      <th>BatchId</th>\n",
       "      <th>AccountId</th>\n",
       "      <th>SubscriptionId</th>\n",
       "      <th>CustomerId</th>\n",
       "      <th>CurrencyCode</th>\n",
       "      <th>CountryCode</th>\n",
       "      <th>ProviderId</th>\n",
       "      <th>ProductId</th>\n",
       "      <th>ProductCategory</th>\n",
       "      <th>ChannelId</th>\n",
       "      <th>Amount</th>\n",
       "      <th>Value</th>\n",
       "      <th>TransactionStartTime</th>\n",
       "      <th>PricingStrategy</th>\n",
       "      <th>FraudResult</th>\n",
       "    </tr>\n",
       "  </thead>\n",
       "  <tbody>\n",
       "    <tr>\n",
       "      <th>0</th>\n",
       "      <td>TransactionId_76871</td>\n",
       "      <td>BatchId_36123</td>\n",
       "      <td>AccountId_3957</td>\n",
       "      <td>SubscriptionId_887</td>\n",
       "      <td>CustomerId_4406</td>\n",
       "      <td>UGX</td>\n",
       "      <td>256</td>\n",
       "      <td>ProviderId_6</td>\n",
       "      <td>ProductId_10</td>\n",
       "      <td>airtime</td>\n",
       "      <td>ChannelId_3</td>\n",
       "      <td>1000.0</td>\n",
       "      <td>1000</td>\n",
       "      <td>2018-11-15T02:18:49Z</td>\n",
       "      <td>2</td>\n",
       "      <td>0</td>\n",
       "    </tr>\n",
       "    <tr>\n",
       "      <th>1</th>\n",
       "      <td>TransactionId_73770</td>\n",
       "      <td>BatchId_15642</td>\n",
       "      <td>AccountId_4841</td>\n",
       "      <td>SubscriptionId_3829</td>\n",
       "      <td>CustomerId_4406</td>\n",
       "      <td>UGX</td>\n",
       "      <td>256</td>\n",
       "      <td>ProviderId_4</td>\n",
       "      <td>ProductId_6</td>\n",
       "      <td>financial_services</td>\n",
       "      <td>ChannelId_2</td>\n",
       "      <td>-20.0</td>\n",
       "      <td>20</td>\n",
       "      <td>2018-11-15T02:19:08Z</td>\n",
       "      <td>2</td>\n",
       "      <td>0</td>\n",
       "    </tr>\n",
       "    <tr>\n",
       "      <th>2</th>\n",
       "      <td>TransactionId_26203</td>\n",
       "      <td>BatchId_53941</td>\n",
       "      <td>AccountId_4229</td>\n",
       "      <td>SubscriptionId_222</td>\n",
       "      <td>CustomerId_4683</td>\n",
       "      <td>UGX</td>\n",
       "      <td>256</td>\n",
       "      <td>ProviderId_6</td>\n",
       "      <td>ProductId_1</td>\n",
       "      <td>airtime</td>\n",
       "      <td>ChannelId_3</td>\n",
       "      <td>500.0</td>\n",
       "      <td>500</td>\n",
       "      <td>2018-11-15T02:44:21Z</td>\n",
       "      <td>2</td>\n",
       "      <td>0</td>\n",
       "    </tr>\n",
       "    <tr>\n",
       "      <th>3</th>\n",
       "      <td>TransactionId_380</td>\n",
       "      <td>BatchId_102363</td>\n",
       "      <td>AccountId_648</td>\n",
       "      <td>SubscriptionId_2185</td>\n",
       "      <td>CustomerId_988</td>\n",
       "      <td>UGX</td>\n",
       "      <td>256</td>\n",
       "      <td>ProviderId_1</td>\n",
       "      <td>ProductId_21</td>\n",
       "      <td>utility_bill</td>\n",
       "      <td>ChannelId_3</td>\n",
       "      <td>20000.0</td>\n",
       "      <td>21800</td>\n",
       "      <td>2018-11-15T03:32:55Z</td>\n",
       "      <td>2</td>\n",
       "      <td>0</td>\n",
       "    </tr>\n",
       "    <tr>\n",
       "      <th>4</th>\n",
       "      <td>TransactionId_28195</td>\n",
       "      <td>BatchId_38780</td>\n",
       "      <td>AccountId_4841</td>\n",
       "      <td>SubscriptionId_3829</td>\n",
       "      <td>CustomerId_988</td>\n",
       "      <td>UGX</td>\n",
       "      <td>256</td>\n",
       "      <td>ProviderId_4</td>\n",
       "      <td>ProductId_6</td>\n",
       "      <td>financial_services</td>\n",
       "      <td>ChannelId_2</td>\n",
       "      <td>-644.0</td>\n",
       "      <td>644</td>\n",
       "      <td>2018-11-15T03:34:21Z</td>\n",
       "      <td>2</td>\n",
       "      <td>0</td>\n",
       "    </tr>\n",
       "  </tbody>\n",
       "</table>\n",
       "</div>"
      ]
     },
     "execution_count": 2,
     "metadata": {},
     "output_type": "execute_result"
    }
   ],
   "execution_count": 2
  },
  {
   "metadata": {},
   "cell_type": "markdown",
   "source": [
    "### Feature Engineering\n",
    "🎯 Goal:\n",
    "Transform raw transaction data into model-ready features using:\n",
    "- Customer-level aggregate features\n",
    "- Time-based features\n",
    "- Categorical encoding\n",
    "- Scaling/normalization\n",
    "- Missing value handling"
   ],
   "id": "472d237b560c05d0"
  },
  {
   "metadata": {
    "ExecuteTime": {
     "end_time": "2025-07-01T17:07:07.739247Z",
     "start_time": "2025-07-01T17:07:06.048200Z"
    }
   },
   "cell_type": "code",
   "source": [
    "# Assume 'TransactionStartTime' is a datetime column\n",
    "df['TransactionStartTime'] = pd.to_datetime(df['TransactionStartTime'], errors='coerce')\n",
    "df['TransactionHour'] = df['TransactionStartTime'].dt.hour\n",
    "df['TransactionDay'] = df['TransactionStartTime'].dt.day\n",
    "df['TransactionMonth'] = df['TransactionStartTime'].dt.month\n",
    "df['TransactionYear'] = df['TransactionStartTime'].dt.year\n",
    "\n",
    "df = df.to_csv(\"../data/processed/processed_feature.csv\", index=False)"
   ],
   "id": "2dfc75048a7f988f",
   "outputs": [],
   "execution_count": 3
  },
  {
   "metadata": {
    "ExecuteTime": {
     "end_time": "2025-07-01T17:07:08.251896Z",
     "start_time": "2025-07-01T17:07:07.800122Z"
    }
   },
   "cell_type": "code",
   "source": "df = pd.read_csv(\"../data/processed/processed_feature.csv\")",
   "id": "45c3dbac9df128c9",
   "outputs": [],
   "execution_count": 4
  },
  {
   "metadata": {
    "ExecuteTime": {
     "end_time": "2025-07-01T17:07:08.649385Z",
     "start_time": "2025-07-01T17:07:08.280467Z"
    }
   },
   "cell_type": "code",
   "source": [
    "print(\"\\n🔢 Summary Statistics:\")\n",
    "print(df.describe(include='all').T)"
   ],
   "id": "42faf5c73796be5",
   "outputs": [
    {
     "name": "stdout",
     "output_type": "stream",
     "text": [
      "\n",
      "🔢 Summary Statistics:\n",
      "                        count unique                        top   freq  \\\n",
      "TransactionId           95662  95662        TransactionId_76871      1   \n",
      "BatchId                 95662  94809              BatchId_67019     28   \n",
      "AccountId               95662   3633             AccountId_4841  30893   \n",
      "SubscriptionId          95662   3627        SubscriptionId_3829  32630   \n",
      "CustomerId              95662   3742            CustomerId_7343   4091   \n",
      "CurrencyCode            95662      1                        UGX  95662   \n",
      "CountryCode           95662.0    NaN                        NaN    NaN   \n",
      "ProviderId              95662      6               ProviderId_4  38189   \n",
      "ProductId               95662     23                ProductId_6  32635   \n",
      "ProductCategory         95662      9         financial_services  45405   \n",
      "ChannelId               95662      4                ChannelId_3  56935   \n",
      "Amount                95662.0    NaN                        NaN    NaN   \n",
      "Value                 95662.0    NaN                        NaN    NaN   \n",
      "TransactionStartTime    95662  94556  2018-12-24 16:30:13+00:00     17   \n",
      "PricingStrategy       95662.0    NaN                        NaN    NaN   \n",
      "FraudResult           95662.0    NaN                        NaN    NaN   \n",
      "TransactionHour       95662.0    NaN                        NaN    NaN   \n",
      "TransactionDay        95662.0    NaN                        NaN    NaN   \n",
      "TransactionMonth      95662.0    NaN                        NaN    NaN   \n",
      "TransactionYear       95662.0    NaN                        NaN    NaN   \n",
      "\n",
      "                             mean            std        min     25%     50%  \\\n",
      "TransactionId                 NaN            NaN        NaN     NaN     NaN   \n",
      "BatchId                       NaN            NaN        NaN     NaN     NaN   \n",
      "AccountId                     NaN            NaN        NaN     NaN     NaN   \n",
      "SubscriptionId                NaN            NaN        NaN     NaN     NaN   \n",
      "CustomerId                    NaN            NaN        NaN     NaN     NaN   \n",
      "CurrencyCode                  NaN            NaN        NaN     NaN     NaN   \n",
      "CountryCode                 256.0            0.0      256.0   256.0   256.0   \n",
      "ProviderId                    NaN            NaN        NaN     NaN     NaN   \n",
      "ProductId                     NaN            NaN        NaN     NaN     NaN   \n",
      "ProductCategory               NaN            NaN        NaN     NaN     NaN   \n",
      "ChannelId                     NaN            NaN        NaN     NaN     NaN   \n",
      "Amount                6717.846433  123306.797164 -1000000.0   -50.0  1000.0   \n",
      "Value                 9900.583941  123122.087776        2.0   275.0  1000.0   \n",
      "TransactionStartTime          NaN            NaN        NaN     NaN     NaN   \n",
      "PricingStrategy          2.255974       0.732924        0.0     2.0     2.0   \n",
      "FraudResult              0.002018       0.044872        0.0     0.0     0.0   \n",
      "TransactionHour         12.447722       4.846964        0.0     8.0    13.0   \n",
      "TransactionDay          15.902898       8.962822        1.0     8.0    16.0   \n",
      "TransactionMonth         6.566233        5.22431        1.0     1.0    11.0   \n",
      "TransactionYear       2018.497115       0.499994     2018.0  2018.0  2018.0   \n",
      "\n",
      "                         75%        max  \n",
      "TransactionId            NaN        NaN  \n",
      "BatchId                  NaN        NaN  \n",
      "AccountId                NaN        NaN  \n",
      "SubscriptionId           NaN        NaN  \n",
      "CustomerId               NaN        NaN  \n",
      "CurrencyCode             NaN        NaN  \n",
      "CountryCode            256.0      256.0  \n",
      "ProviderId               NaN        NaN  \n",
      "ProductId                NaN        NaN  \n",
      "ProductCategory          NaN        NaN  \n",
      "ChannelId                NaN        NaN  \n",
      "Amount                2800.0  9880000.0  \n",
      "Value                 5000.0  9880000.0  \n",
      "TransactionStartTime     NaN        NaN  \n",
      "PricingStrategy          2.0        4.0  \n",
      "FraudResult              0.0        1.0  \n",
      "TransactionHour         17.0       23.0  \n",
      "TransactionDay          24.0       31.0  \n",
      "TransactionMonth        12.0       12.0  \n",
      "TransactionYear       2019.0     2019.0  \n"
     ]
    }
   ],
   "execution_count": 5
  },
  {
   "metadata": {
    "ExecuteTime": {
     "end_time": "2025-07-01T17:07:08.683934Z",
     "start_time": "2025-07-01T17:07:08.680011Z"
    }
   },
   "cell_type": "code",
   "source": [
    "required = ['AccountId', 'Value', 'Amount', 'TransactionStartTime', 'ChannelId', 'PricingStrategy']\n",
    "missing = set(required) - set(df.columns)\n",
    "if missing:\n",
    "    print(f\"Warning: Missing columns {missing}. Pipeline may fail.\")"
   ],
   "id": "2308a4cf256fedc9",
   "outputs": [],
   "execution_count": 6
  },
  {
   "cell_type": "code",
   "id": "b4cd6260c312b64f",
   "metadata": {
    "ExecuteTime": {
     "end_time": "2025-07-01T17:07:09.613331Z",
     "start_time": "2025-07-01T17:07:08.743801Z"
    }
   },
   "source": [
    "# Build and apply the full pipeline\n",
    "pipeline = build_full_pipeline()\n",
    "X_processed = pipeline.fit_transform(df)\n",
    "#\n",
    "print(X_processed.shape)"
   ],
   "outputs": [
    {
     "ename": "AttributeError",
     "evalue": "'DebugTransformer' object has no attribute 'fit'",
     "output_type": "error",
     "traceback": [
      "\u001B[31m---------------------------------------------------------------------------\u001B[39m",
      "\u001B[31mAttributeError\u001B[39m                            Traceback (most recent call last)",
      "\u001B[36mCell\u001B[39m\u001B[36m \u001B[39m\u001B[32mIn[7]\u001B[39m\u001B[32m, line 3\u001B[39m\n\u001B[32m      1\u001B[39m \u001B[38;5;66;03m# Build and apply the full pipeline\u001B[39;00m\n\u001B[32m      2\u001B[39m pipeline = build_full_pipeline()\n\u001B[32m----> \u001B[39m\u001B[32m3\u001B[39m X_processed = \u001B[43mpipeline\u001B[49m\u001B[43m.\u001B[49m\u001B[43mfit_transform\u001B[49m\u001B[43m(\u001B[49m\u001B[43mdf\u001B[49m\u001B[43m)\u001B[49m\n\u001B[32m      4\u001B[39m \u001B[38;5;66;03m#\u001B[39;00m\n\u001B[32m      5\u001B[39m \u001B[38;5;28mprint\u001B[39m(X_processed.shape)\n",
      "\u001B[36mFile \u001B[39m\u001B[32mD:\\CodeFiles\\Kifiya\\week5\\credit-risk-model\\venv\\Lib\\site-packages\\sklearn\\base.py:1363\u001B[39m, in \u001B[36m_fit_context.<locals>.decorator.<locals>.wrapper\u001B[39m\u001B[34m(estimator, *args, **kwargs)\u001B[39m\n\u001B[32m   1356\u001B[39m     estimator._validate_params()\n\u001B[32m   1358\u001B[39m \u001B[38;5;28;01mwith\u001B[39;00m config_context(\n\u001B[32m   1359\u001B[39m     skip_parameter_validation=(\n\u001B[32m   1360\u001B[39m         prefer_skip_nested_validation \u001B[38;5;129;01mor\u001B[39;00m global_skip_validation\n\u001B[32m   1361\u001B[39m     )\n\u001B[32m   1362\u001B[39m ):\n\u001B[32m-> \u001B[39m\u001B[32m1363\u001B[39m     \u001B[38;5;28;01mreturn\u001B[39;00m \u001B[43mfit_method\u001B[49m\u001B[43m(\u001B[49m\u001B[43mestimator\u001B[49m\u001B[43m,\u001B[49m\u001B[43m \u001B[49m\u001B[43m*\u001B[49m\u001B[43margs\u001B[49m\u001B[43m,\u001B[49m\u001B[43m \u001B[49m\u001B[43m*\u001B[49m\u001B[43m*\u001B[49m\u001B[43mkwargs\u001B[49m\u001B[43m)\u001B[49m\n",
      "\u001B[36mFile \u001B[39m\u001B[32mD:\\CodeFiles\\Kifiya\\week5\\credit-risk-model\\venv\\Lib\\site-packages\\sklearn\\pipeline.py:717\u001B[39m, in \u001B[36mPipeline.fit_transform\u001B[39m\u001B[34m(self, X, y, **params)\u001B[39m\n\u001B[32m    678\u001B[39m \u001B[38;5;250m\u001B[39m\u001B[33;03m\"\"\"Fit the model and transform with the final estimator.\u001B[39;00m\n\u001B[32m    679\u001B[39m \n\u001B[32m    680\u001B[39m \u001B[33;03mFit all the transformers one after the other and sequentially transform\u001B[39;00m\n\u001B[32m   (...)\u001B[39m\u001B[32m    714\u001B[39m \u001B[33;03m    Transformed samples.\u001B[39;00m\n\u001B[32m    715\u001B[39m \u001B[33;03m\"\"\"\u001B[39;00m\n\u001B[32m    716\u001B[39m routed_params = \u001B[38;5;28mself\u001B[39m._check_method_params(method=\u001B[33m\"\u001B[39m\u001B[33mfit_transform\u001B[39m\u001B[33m\"\u001B[39m, props=params)\n\u001B[32m--> \u001B[39m\u001B[32m717\u001B[39m Xt = \u001B[38;5;28;43mself\u001B[39;49m\u001B[43m.\u001B[49m\u001B[43m_fit\u001B[49m\u001B[43m(\u001B[49m\u001B[43mX\u001B[49m\u001B[43m,\u001B[49m\u001B[43m \u001B[49m\u001B[43my\u001B[49m\u001B[43m,\u001B[49m\u001B[43m \u001B[49m\u001B[43mrouted_params\u001B[49m\u001B[43m)\u001B[49m\n\u001B[32m    719\u001B[39m last_step = \u001B[38;5;28mself\u001B[39m._final_estimator\n\u001B[32m    720\u001B[39m \u001B[38;5;28;01mwith\u001B[39;00m _print_elapsed_time(\u001B[33m\"\u001B[39m\u001B[33mPipeline\u001B[39m\u001B[33m\"\u001B[39m, \u001B[38;5;28mself\u001B[39m._log_message(\u001B[38;5;28mlen\u001B[39m(\u001B[38;5;28mself\u001B[39m.steps) - \u001B[32m1\u001B[39m)):\n",
      "\u001B[36mFile \u001B[39m\u001B[32mD:\\CodeFiles\\Kifiya\\week5\\credit-risk-model\\venv\\Lib\\site-packages\\sklearn\\pipeline.py:587\u001B[39m, in \u001B[36mPipeline._fit\u001B[39m\u001B[34m(self, X, y, routed_params, raw_params)\u001B[39m\n\u001B[32m    580\u001B[39m \u001B[38;5;66;03m# Fit or load from cache the current transformer\u001B[39;00m\n\u001B[32m    581\u001B[39m step_params = \u001B[38;5;28mself\u001B[39m._get_metadata_for_step(\n\u001B[32m    582\u001B[39m     step_idx=step_idx,\n\u001B[32m    583\u001B[39m     step_params=routed_params[name],\n\u001B[32m    584\u001B[39m     all_params=raw_params,\n\u001B[32m    585\u001B[39m )\n\u001B[32m--> \u001B[39m\u001B[32m587\u001B[39m X, fitted_transformer = \u001B[43mfit_transform_one_cached\u001B[49m\u001B[43m(\u001B[49m\n\u001B[32m    588\u001B[39m \u001B[43m    \u001B[49m\u001B[43mcloned_transformer\u001B[49m\u001B[43m,\u001B[49m\n\u001B[32m    589\u001B[39m \u001B[43m    \u001B[49m\u001B[43mX\u001B[49m\u001B[43m,\u001B[49m\n\u001B[32m    590\u001B[39m \u001B[43m    \u001B[49m\u001B[43my\u001B[49m\u001B[43m,\u001B[49m\n\u001B[32m    591\u001B[39m \u001B[43m    \u001B[49m\u001B[43mweight\u001B[49m\u001B[43m=\u001B[49m\u001B[38;5;28;43;01mNone\u001B[39;49;00m\u001B[43m,\u001B[49m\n\u001B[32m    592\u001B[39m \u001B[43m    \u001B[49m\u001B[43mmessage_clsname\u001B[49m\u001B[43m=\u001B[49m\u001B[33;43m\"\u001B[39;49m\u001B[33;43mPipeline\u001B[39;49m\u001B[33;43m\"\u001B[39;49m\u001B[43m,\u001B[49m\n\u001B[32m    593\u001B[39m \u001B[43m    \u001B[49m\u001B[43mmessage\u001B[49m\u001B[43m=\u001B[49m\u001B[38;5;28;43mself\u001B[39;49m\u001B[43m.\u001B[49m\u001B[43m_log_message\u001B[49m\u001B[43m(\u001B[49m\u001B[43mstep_idx\u001B[49m\u001B[43m)\u001B[49m\u001B[43m,\u001B[49m\n\u001B[32m    594\u001B[39m \u001B[43m    \u001B[49m\u001B[43mparams\u001B[49m\u001B[43m=\u001B[49m\u001B[43mstep_params\u001B[49m\u001B[43m,\u001B[49m\n\u001B[32m    595\u001B[39m \u001B[43m\u001B[49m\u001B[43m)\u001B[49m\n\u001B[32m    596\u001B[39m \u001B[38;5;66;03m# Replace the transformer of the step with the fitted\u001B[39;00m\n\u001B[32m    597\u001B[39m \u001B[38;5;66;03m# transformer. This is necessary when loading the transformer\u001B[39;00m\n\u001B[32m    598\u001B[39m \u001B[38;5;66;03m# from the cache.\u001B[39;00m\n\u001B[32m    599\u001B[39m \u001B[38;5;28mself\u001B[39m.steps[step_idx] = (name, fitted_transformer)\n",
      "\u001B[36mFile \u001B[39m\u001B[32mD:\\CodeFiles\\Kifiya\\week5\\credit-risk-model\\venv\\Lib\\site-packages\\joblib\\memory.py:326\u001B[39m, in \u001B[36mNotMemorizedFunc.__call__\u001B[39m\u001B[34m(self, *args, **kwargs)\u001B[39m\n\u001B[32m    325\u001B[39m \u001B[38;5;28;01mdef\u001B[39;00m\u001B[38;5;250m \u001B[39m\u001B[34m__call__\u001B[39m(\u001B[38;5;28mself\u001B[39m, *args, **kwargs):\n\u001B[32m--> \u001B[39m\u001B[32m326\u001B[39m     \u001B[38;5;28;01mreturn\u001B[39;00m \u001B[38;5;28;43mself\u001B[39;49m\u001B[43m.\u001B[49m\u001B[43mfunc\u001B[49m\u001B[43m(\u001B[49m\u001B[43m*\u001B[49m\u001B[43margs\u001B[49m\u001B[43m,\u001B[49m\u001B[43m \u001B[49m\u001B[43m*\u001B[49m\u001B[43m*\u001B[49m\u001B[43mkwargs\u001B[49m\u001B[43m)\u001B[49m\n",
      "\u001B[36mFile \u001B[39m\u001B[32mD:\\CodeFiles\\Kifiya\\week5\\credit-risk-model\\venv\\Lib\\site-packages\\sklearn\\pipeline.py:1539\u001B[39m, in \u001B[36m_fit_transform_one\u001B[39m\u001B[34m(transformer, X, y, weight, message_clsname, message, params)\u001B[39m\n\u001B[32m   1537\u001B[39m \u001B[38;5;28;01mwith\u001B[39;00m _print_elapsed_time(message_clsname, message):\n\u001B[32m   1538\u001B[39m     \u001B[38;5;28;01mif\u001B[39;00m \u001B[38;5;28mhasattr\u001B[39m(transformer, \u001B[33m\"\u001B[39m\u001B[33mfit_transform\u001B[39m\u001B[33m\"\u001B[39m):\n\u001B[32m-> \u001B[39m\u001B[32m1539\u001B[39m         res = \u001B[43mtransformer\u001B[49m\u001B[43m.\u001B[49m\u001B[43mfit_transform\u001B[49m\u001B[43m(\u001B[49m\u001B[43mX\u001B[49m\u001B[43m,\u001B[49m\u001B[43m \u001B[49m\u001B[43my\u001B[49m\u001B[43m,\u001B[49m\u001B[43m \u001B[49m\u001B[43m*\u001B[49m\u001B[43m*\u001B[49m\u001B[43mparams\u001B[49m\u001B[43m.\u001B[49m\u001B[43mget\u001B[49m\u001B[43m(\u001B[49m\u001B[33;43m\"\u001B[39;49m\u001B[33;43mfit_transform\u001B[39;49m\u001B[33;43m\"\u001B[39;49m\u001B[43m,\u001B[49m\u001B[43m \u001B[49m\u001B[43m{\u001B[49m\u001B[43m}\u001B[49m\u001B[43m)\u001B[49m\u001B[43m)\u001B[49m\n\u001B[32m   1540\u001B[39m     \u001B[38;5;28;01melse\u001B[39;00m:\n\u001B[32m   1541\u001B[39m         res = transformer.fit(X, y, **params.get(\u001B[33m\"\u001B[39m\u001B[33mfit\u001B[39m\u001B[33m\"\u001B[39m, {})).transform(\n\u001B[32m   1542\u001B[39m             X, **params.get(\u001B[33m\"\u001B[39m\u001B[33mtransform\u001B[39m\u001B[33m\"\u001B[39m, {})\n\u001B[32m   1543\u001B[39m         )\n",
      "\u001B[36mFile \u001B[39m\u001B[32mD:\\CodeFiles\\Kifiya\\week5\\credit-risk-model\\venv\\Lib\\site-packages\\sklearn\\utils\\_set_output.py:316\u001B[39m, in \u001B[36m_wrap_method_output.<locals>.wrapped\u001B[39m\u001B[34m(self, X, *args, **kwargs)\u001B[39m\n\u001B[32m    314\u001B[39m \u001B[38;5;129m@wraps\u001B[39m(f)\n\u001B[32m    315\u001B[39m \u001B[38;5;28;01mdef\u001B[39;00m\u001B[38;5;250m \u001B[39m\u001B[34mwrapped\u001B[39m(\u001B[38;5;28mself\u001B[39m, X, *args, **kwargs):\n\u001B[32m--> \u001B[39m\u001B[32m316\u001B[39m     data_to_wrap = \u001B[43mf\u001B[49m\u001B[43m(\u001B[49m\u001B[38;5;28;43mself\u001B[39;49m\u001B[43m,\u001B[49m\u001B[43m \u001B[49m\u001B[43mX\u001B[49m\u001B[43m,\u001B[49m\u001B[43m \u001B[49m\u001B[43m*\u001B[49m\u001B[43margs\u001B[49m\u001B[43m,\u001B[49m\u001B[43m \u001B[49m\u001B[43m*\u001B[49m\u001B[43m*\u001B[49m\u001B[43mkwargs\u001B[49m\u001B[43m)\u001B[49m\n\u001B[32m    317\u001B[39m     \u001B[38;5;28;01mif\u001B[39;00m \u001B[38;5;28misinstance\u001B[39m(data_to_wrap, \u001B[38;5;28mtuple\u001B[39m):\n\u001B[32m    318\u001B[39m         \u001B[38;5;66;03m# only wrap the first output for cross decomposition\u001B[39;00m\n\u001B[32m    319\u001B[39m         return_tuple = (\n\u001B[32m    320\u001B[39m             _wrap_data_with_container(method, data_to_wrap[\u001B[32m0\u001B[39m], X, \u001B[38;5;28mself\u001B[39m),\n\u001B[32m    321\u001B[39m             *data_to_wrap[\u001B[32m1\u001B[39m:],\n\u001B[32m    322\u001B[39m         )\n",
      "\u001B[36mFile \u001B[39m\u001B[32mD:\\CodeFiles\\Kifiya\\week5\\credit-risk-model\\venv\\Lib\\site-packages\\sklearn\\base.py:892\u001B[39m, in \u001B[36mTransformerMixin.fit_transform\u001B[39m\u001B[34m(self, X, y, **fit_params)\u001B[39m\n\u001B[32m    877\u001B[39m         warnings.warn(\n\u001B[32m    878\u001B[39m             (\n\u001B[32m    879\u001B[39m                 \u001B[33mf\u001B[39m\u001B[33m\"\u001B[39m\u001B[33mThis object (\u001B[39m\u001B[38;5;132;01m{\u001B[39;00m\u001B[38;5;28mself\u001B[39m.\u001B[34m__class__\u001B[39m.\u001B[34m__name__\u001B[39m\u001B[38;5;132;01m}\u001B[39;00m\u001B[33m) has a `transform`\u001B[39m\u001B[33m\"\u001B[39m\n\u001B[32m   (...)\u001B[39m\u001B[32m    887\u001B[39m             \u001B[38;5;167;01mUserWarning\u001B[39;00m,\n\u001B[32m    888\u001B[39m         )\n\u001B[32m    890\u001B[39m \u001B[38;5;28;01mif\u001B[39;00m y \u001B[38;5;129;01mis\u001B[39;00m \u001B[38;5;28;01mNone\u001B[39;00m:\n\u001B[32m    891\u001B[39m     \u001B[38;5;66;03m# fit method of arity 1 (unsupervised transformation)\u001B[39;00m\n\u001B[32m--> \u001B[39m\u001B[32m892\u001B[39m     \u001B[38;5;28;01mreturn\u001B[39;00m \u001B[38;5;28;43mself\u001B[39;49m\u001B[43m.\u001B[49m\u001B[43mfit\u001B[49m(X, **fit_params).transform(X)\n\u001B[32m    893\u001B[39m \u001B[38;5;28;01melse\u001B[39;00m:\n\u001B[32m    894\u001B[39m     \u001B[38;5;66;03m# fit method of arity 2 (supervised transformation)\u001B[39;00m\n\u001B[32m    895\u001B[39m     \u001B[38;5;28;01mreturn\u001B[39;00m \u001B[38;5;28mself\u001B[39m.fit(X, y, **fit_params).transform(X)\n",
      "\u001B[31mAttributeError\u001B[39m: 'DebugTransformer' object has no attribute 'fit'"
     ]
    }
   ],
   "execution_count": 7
  },
  {
   "metadata": {
    "ExecuteTime": {
     "end_time": "2025-07-01T17:07:31.110277Z",
     "start_time": "2025-07-01T17:07:31.106067Z"
    }
   },
   "cell_type": "code",
   "source": [
    "# First check what columns you actually have\n",
    "print(\"Existing columns:\", df.columns.tolist())\n",
    "\n",
    "# Check if 'TransactionHour' exists\n",
    "if 'TransactionHour' not in df.columns:\n",
    "    print(\"ERROR: 'TransactionHour' column is missing\")"
   ],
   "id": "5678c6e68bfe7fc0",
   "outputs": [
    {
     "name": "stdout",
     "output_type": "stream",
     "text": [
      "Existing columns: ['TransactionId', 'BatchId', 'AccountId', 'SubscriptionId', 'CustomerId', 'CurrencyCode', 'CountryCode', 'ProviderId', 'ProductId', 'ProductCategory', 'ChannelId', 'Amount', 'Value', 'TransactionStartTime', 'PricingStrategy', 'FraudResult', 'TransactionHour', 'TransactionDay', 'TransactionMonth', 'TransactionYear']\n"
     ]
    }
   ],
   "execution_count": 8
  },
  {
   "metadata": {},
   "cell_type": "markdown",
   "source": [
    "### Proxy Target Variable Engineering\n",
    "\n",
    "🎯 Goal:\n",
    "Create a binary target column (is_high_risk) by identifying disengaged customers using RFM (Recency, Frequency, Monetary) and clustering."
   ],
   "id": "738b510d093962e"
  },
  {
   "metadata": {
    "ExecuteTime": {
     "end_time": "2025-07-01T17:07:33.822987Z",
     "start_time": "2025-07-01T17:07:33.817398Z"
    }
   },
   "cell_type": "code",
   "source": "from src.proxy_target_engineering import ProxyTargetEngineer",
   "id": "e33aa0d9922a9a4f",
   "outputs": [],
   "execution_count": 9
  },
  {
   "metadata": {
    "ExecuteTime": {
     "end_time": "2025-07-01T17:07:35.256229Z",
     "start_time": "2025-07-01T17:07:35.203380Z"
    }
   },
   "cell_type": "code",
   "source": "df.info()",
   "id": "e206ffe8f7e889c5",
   "outputs": [
    {
     "name": "stdout",
     "output_type": "stream",
     "text": [
      "<class 'pandas.core.frame.DataFrame'>\n",
      "RangeIndex: 95662 entries, 0 to 95661\n",
      "Data columns (total 20 columns):\n",
      " #   Column                Non-Null Count  Dtype  \n",
      "---  ------                --------------  -----  \n",
      " 0   TransactionId         95662 non-null  object \n",
      " 1   BatchId               95662 non-null  object \n",
      " 2   AccountId             95662 non-null  object \n",
      " 3   SubscriptionId        95662 non-null  object \n",
      " 4   CustomerId            95662 non-null  object \n",
      " 5   CurrencyCode          95662 non-null  object \n",
      " 6   CountryCode           95662 non-null  int64  \n",
      " 7   ProviderId            95662 non-null  object \n",
      " 8   ProductId             95662 non-null  object \n",
      " 9   ProductCategory       95662 non-null  object \n",
      " 10  ChannelId             95662 non-null  object \n",
      " 11  Amount                95662 non-null  float64\n",
      " 12  Value                 95662 non-null  int64  \n",
      " 13  TransactionStartTime  95662 non-null  object \n",
      " 14  PricingStrategy       95662 non-null  int64  \n",
      " 15  FraudResult           95662 non-null  int64  \n",
      " 16  TransactionHour       95662 non-null  int64  \n",
      " 17  TransactionDay        95662 non-null  int64  \n",
      " 18  TransactionMonth      95662 non-null  int64  \n",
      " 19  TransactionYear       95662 non-null  int64  \n",
      "dtypes: float64(1), int64(8), object(11)\n",
      "memory usage: 14.6+ MB\n"
     ]
    }
   ],
   "execution_count": 10
  },
  {
   "metadata": {
    "ExecuteTime": {
     "end_time": "2025-07-01T17:07:37.135003Z",
     "start_time": "2025-07-01T17:07:37.110549Z"
    }
   },
   "cell_type": "code",
   "source": [
    "df[\"TransactionHour\"] = pd.to_datetime(df[\"TransactionHour\"])\n",
    "df[\"TransactionDay\"] = pd.to_datetime(df[\"TransactionDay\"])\n",
    "df[\"TransactionMonth\"] = pd.to_datetime(df[\"TransactionMonth\"])\n",
    "df[\"TransactionYear\"] = pd.to_datetime(df[\"TransactionYear\"])"
   ],
   "id": "dbac3e11f3b58b6",
   "outputs": [],
   "execution_count": 11
  },
  {
   "metadata": {},
   "cell_type": "markdown",
   "source": "",
   "id": "4c8e4f164ad16695"
  },
  {
   "metadata": {},
   "cell_type": "code",
   "source": "",
   "id": "cb12ff41461ea06",
   "outputs": [],
   "execution_count": null
  },
  {
   "metadata": {
    "ExecuteTime": {
     "end_time": "2025-07-01T17:07:40.120490Z",
     "start_time": "2025-07-01T17:07:39.457998Z"
    }
   },
   "cell_type": "code",
   "source": [
    "# Build and apply proxy target logic\n",
    "proxy = ProxyTargetEngineer(snapshot_date='2023-12-31')\n",
    "target_df = proxy.generate_target(df)\n",
    "\n",
    "# Merge with preprocessed feature data\n",
    "final_data = df.merge(target_df, on='CustomerId', how='left')"
   ],
   "id": "cef5d69af77fbb1d",
   "outputs": [
    {
     "ename": "TypeError",
     "evalue": "Cannot subtract tz-naive and tz-aware datetime-like objects.",
     "output_type": "error",
     "traceback": [
      "\u001B[31m---------------------------------------------------------------------------\u001B[39m",
      "\u001B[31mTypeError\u001B[39m                                 Traceback (most recent call last)",
      "\u001B[36mCell\u001B[39m\u001B[36m \u001B[39m\u001B[32mIn[12]\u001B[39m\u001B[32m, line 3\u001B[39m\n\u001B[32m      1\u001B[39m \u001B[38;5;66;03m# Build and apply proxy target logic\u001B[39;00m\n\u001B[32m      2\u001B[39m proxy = ProxyTargetEngineer(snapshot_date=\u001B[33m'\u001B[39m\u001B[33m2023-12-31\u001B[39m\u001B[33m'\u001B[39m)\n\u001B[32m----> \u001B[39m\u001B[32m3\u001B[39m target_df = \u001B[43mproxy\u001B[49m\u001B[43m.\u001B[49m\u001B[43mgenerate_target\u001B[49m\u001B[43m(\u001B[49m\u001B[43mdf\u001B[49m\u001B[43m)\u001B[49m\n\u001B[32m      5\u001B[39m \u001B[38;5;66;03m# Merge with preprocessed feature data\u001B[39;00m\n\u001B[32m      6\u001B[39m final_data = df.merge(target_df, on=\u001B[33m'\u001B[39m\u001B[33mCustomerId\u001B[39m\u001B[33m'\u001B[39m, how=\u001B[33m'\u001B[39m\u001B[33mleft\u001B[39m\u001B[33m'\u001B[39m)\n",
      "\u001B[36mFile \u001B[39m\u001B[32mD:\\CodeFiles\\Kifiya\\week5\\credit-risk-model\\src\\proxy_target_engineering.py:46\u001B[39m, in \u001B[36mProxyTargetEngineer.generate_target\u001B[39m\u001B[34m(self, df)\u001B[39m\n\u001B[32m     45\u001B[39m \u001B[38;5;28;01mdef\u001B[39;00m\u001B[38;5;250m \u001B[39m\u001B[34mgenerate_target\u001B[39m(\u001B[38;5;28mself\u001B[39m, df: pd.DataFrame) -> pd.DataFrame:\n\u001B[32m---> \u001B[39m\u001B[32m46\u001B[39m     rfm = \u001B[38;5;28;43mself\u001B[39;49m\u001B[43m.\u001B[49m\u001B[43mcompute_rfm\u001B[49m\u001B[43m(\u001B[49m\u001B[43mdf\u001B[49m\u001B[43m)\u001B[49m\n\u001B[32m     47\u001B[39m     rfm = \u001B[38;5;28mself\u001B[39m.assign_clusters(rfm)\n\u001B[32m     48\u001B[39m     high_risk = \u001B[38;5;28mself\u001B[39m.determine_high_risk_cluster(rfm)\n",
      "\u001B[36mFile \u001B[39m\u001B[32mD:\\CodeFiles\\Kifiya\\week5\\credit-risk-model\\src\\proxy_target_engineering.py:22\u001B[39m, in \u001B[36mProxyTargetEngineer.compute_rfm\u001B[39m\u001B[34m(self, df)\u001B[39m\n\u001B[32m     19\u001B[39m \u001B[38;5;66;03m# Filter out null dates if any\u001B[39;00m\n\u001B[32m     20\u001B[39m df = df.dropna(subset=[\u001B[33m'\u001B[39m\u001B[33mTransactionStartTime\u001B[39m\u001B[33m'\u001B[39m])\n\u001B[32m---> \u001B[39m\u001B[32m22\u001B[39m rfm = \u001B[43mdf\u001B[49m\u001B[43m.\u001B[49m\u001B[43mgroupby\u001B[49m\u001B[43m(\u001B[49m\u001B[33;43m'\u001B[39;49m\u001B[33;43mCustomerId\u001B[39;49m\u001B[33;43m'\u001B[39;49m\u001B[43m)\u001B[49m\u001B[43m.\u001B[49m\u001B[43magg\u001B[49m\u001B[43m(\u001B[49m\u001B[43m{\u001B[49m\n\u001B[32m     23\u001B[39m \u001B[43m    \u001B[49m\u001B[33;43m'\u001B[39;49m\u001B[33;43mTransactionStartTime\u001B[39;49m\u001B[33;43m'\u001B[39;49m\u001B[43m:\u001B[49m\u001B[43m \u001B[49m\u001B[38;5;28;43;01mlambda\u001B[39;49;00m\u001B[43m \u001B[49m\u001B[43mx\u001B[49m\u001B[43m:\u001B[49m\u001B[43m \u001B[49m\u001B[43m(\u001B[49m\u001B[38;5;28;43mself\u001B[39;49m\u001B[43m.\u001B[49m\u001B[43msnapshot_date\u001B[49m\u001B[43m \u001B[49m\u001B[43m-\u001B[49m\u001B[43m \u001B[49m\u001B[43mx\u001B[49m\u001B[43m.\u001B[49m\u001B[43mmax\u001B[49m\u001B[43m(\u001B[49m\u001B[43m)\u001B[49m\u001B[43m)\u001B[49m\u001B[43m.\u001B[49m\u001B[43mdays\u001B[49m\u001B[43m,\u001B[49m\n\u001B[32m     24\u001B[39m \u001B[43m    \u001B[49m\u001B[33;43m'\u001B[39;49m\u001B[33;43mTransactionId\u001B[39;49m\u001B[33;43m'\u001B[39;49m\u001B[43m:\u001B[49m\u001B[43m \u001B[49m\u001B[33;43m'\u001B[39;49m\u001B[33;43mcount\u001B[39;49m\u001B[33;43m'\u001B[39;49m\u001B[43m,\u001B[49m\n\u001B[32m     25\u001B[39m \u001B[43m    \u001B[49m\u001B[33;43m'\u001B[39;49m\u001B[33;43mAmount\u001B[39;49m\u001B[33;43m'\u001B[39;49m\u001B[43m:\u001B[49m\u001B[43m \u001B[49m\u001B[33;43m'\u001B[39;49m\u001B[33;43msum\u001B[39;49m\u001B[33;43m'\u001B[39;49m\n\u001B[32m     26\u001B[39m \u001B[43m\u001B[49m\u001B[43m}\u001B[49m\u001B[43m)\u001B[49m.rename(columns={\n\u001B[32m     27\u001B[39m     \u001B[33m'\u001B[39m\u001B[33mTransactionStartTime\u001B[39m\u001B[33m'\u001B[39m: \u001B[33m'\u001B[39m\u001B[33mRecency\u001B[39m\u001B[33m'\u001B[39m,\n\u001B[32m     28\u001B[39m     \u001B[33m'\u001B[39m\u001B[33mTransactionId\u001B[39m\u001B[33m'\u001B[39m: \u001B[33m'\u001B[39m\u001B[33mFrequency\u001B[39m\u001B[33m'\u001B[39m,\n\u001B[32m     29\u001B[39m     \u001B[33m'\u001B[39m\u001B[33mAmount\u001B[39m\u001B[33m'\u001B[39m: \u001B[33m'\u001B[39m\u001B[33mMonetary\u001B[39m\u001B[33m'\u001B[39m\n\u001B[32m     30\u001B[39m }).reset_index()\n\u001B[32m     32\u001B[39m \u001B[38;5;28;01mreturn\u001B[39;00m rfm\n",
      "\u001B[36mFile \u001B[39m\u001B[32mD:\\CodeFiles\\Kifiya\\week5\\credit-risk-model\\venv\\Lib\\site-packages\\pandas\\core\\groupby\\generic.py:1432\u001B[39m, in \u001B[36mDataFrameGroupBy.aggregate\u001B[39m\u001B[34m(self, func, engine, engine_kwargs, *args, **kwargs)\u001B[39m\n\u001B[32m   1429\u001B[39m     kwargs[\u001B[33m\"\u001B[39m\u001B[33mengine_kwargs\u001B[39m\u001B[33m\"\u001B[39m] = engine_kwargs\n\u001B[32m   1431\u001B[39m op = GroupByApply(\u001B[38;5;28mself\u001B[39m, func, args=args, kwargs=kwargs)\n\u001B[32m-> \u001B[39m\u001B[32m1432\u001B[39m result = \u001B[43mop\u001B[49m\u001B[43m.\u001B[49m\u001B[43magg\u001B[49m\u001B[43m(\u001B[49m\u001B[43m)\u001B[49m\n\u001B[32m   1433\u001B[39m \u001B[38;5;28;01mif\u001B[39;00m \u001B[38;5;129;01mnot\u001B[39;00m is_dict_like(func) \u001B[38;5;129;01mand\u001B[39;00m result \u001B[38;5;129;01mis\u001B[39;00m \u001B[38;5;129;01mnot\u001B[39;00m \u001B[38;5;28;01mNone\u001B[39;00m:\n\u001B[32m   1434\u001B[39m     \u001B[38;5;66;03m# GH #52849\u001B[39;00m\n\u001B[32m   1435\u001B[39m     \u001B[38;5;28;01mif\u001B[39;00m \u001B[38;5;129;01mnot\u001B[39;00m \u001B[38;5;28mself\u001B[39m.as_index \u001B[38;5;129;01mand\u001B[39;00m is_list_like(func):\n",
      "\u001B[36mFile \u001B[39m\u001B[32mD:\\CodeFiles\\Kifiya\\week5\\credit-risk-model\\venv\\Lib\\site-packages\\pandas\\core\\apply.py:190\u001B[39m, in \u001B[36mApply.agg\u001B[39m\u001B[34m(self)\u001B[39m\n\u001B[32m    187\u001B[39m     \u001B[38;5;28;01mreturn\u001B[39;00m \u001B[38;5;28mself\u001B[39m.apply_str()\n\u001B[32m    189\u001B[39m \u001B[38;5;28;01mif\u001B[39;00m is_dict_like(func):\n\u001B[32m--> \u001B[39m\u001B[32m190\u001B[39m     \u001B[38;5;28;01mreturn\u001B[39;00m \u001B[38;5;28;43mself\u001B[39;49m\u001B[43m.\u001B[49m\u001B[43magg_dict_like\u001B[49m\u001B[43m(\u001B[49m\u001B[43m)\u001B[49m\n\u001B[32m    191\u001B[39m \u001B[38;5;28;01melif\u001B[39;00m is_list_like(func):\n\u001B[32m    192\u001B[39m     \u001B[38;5;66;03m# we require a list, but not a 'str'\u001B[39;00m\n\u001B[32m    193\u001B[39m     \u001B[38;5;28;01mreturn\u001B[39;00m \u001B[38;5;28mself\u001B[39m.agg_list_like()\n",
      "\u001B[36mFile \u001B[39m\u001B[32mD:\\CodeFiles\\Kifiya\\week5\\credit-risk-model\\venv\\Lib\\site-packages\\pandas\\core\\apply.py:423\u001B[39m, in \u001B[36mApply.agg_dict_like\u001B[39m\u001B[34m(self)\u001B[39m\n\u001B[32m    415\u001B[39m \u001B[38;5;28;01mdef\u001B[39;00m\u001B[38;5;250m \u001B[39m\u001B[34magg_dict_like\u001B[39m(\u001B[38;5;28mself\u001B[39m) -> DataFrame | Series:\n\u001B[32m    416\u001B[39m \u001B[38;5;250m    \u001B[39m\u001B[33;03m\"\"\"\u001B[39;00m\n\u001B[32m    417\u001B[39m \u001B[33;03m    Compute aggregation in the case of a dict-like argument.\u001B[39;00m\n\u001B[32m    418\u001B[39m \n\u001B[32m   (...)\u001B[39m\u001B[32m    421\u001B[39m \u001B[33;03m    Result of aggregation.\u001B[39;00m\n\u001B[32m    422\u001B[39m \u001B[33;03m    \"\"\"\u001B[39;00m\n\u001B[32m--> \u001B[39m\u001B[32m423\u001B[39m     \u001B[38;5;28;01mreturn\u001B[39;00m \u001B[38;5;28;43mself\u001B[39;49m\u001B[43m.\u001B[49m\u001B[43magg_or_apply_dict_like\u001B[49m\u001B[43m(\u001B[49m\u001B[43mop_name\u001B[49m\u001B[43m=\u001B[49m\u001B[33;43m\"\u001B[39;49m\u001B[33;43magg\u001B[39;49m\u001B[33;43m\"\u001B[39;49m\u001B[43m)\u001B[49m\n",
      "\u001B[36mFile \u001B[39m\u001B[32mD:\\CodeFiles\\Kifiya\\week5\\credit-risk-model\\venv\\Lib\\site-packages\\pandas\\core\\apply.py:1603\u001B[39m, in \u001B[36mGroupByApply.agg_or_apply_dict_like\u001B[39m\u001B[34m(self, op_name)\u001B[39m\n\u001B[32m   1598\u001B[39m     kwargs.update({\u001B[33m\"\u001B[39m\u001B[33mengine\u001B[39m\u001B[33m\"\u001B[39m: engine, \u001B[33m\"\u001B[39m\u001B[33mengine_kwargs\u001B[39m\u001B[33m\"\u001B[39m: engine_kwargs})\n\u001B[32m   1600\u001B[39m \u001B[38;5;28;01mwith\u001B[39;00m com.temp_setattr(\n\u001B[32m   1601\u001B[39m     obj, \u001B[33m\"\u001B[39m\u001B[33mas_index\u001B[39m\u001B[33m\"\u001B[39m, \u001B[38;5;28;01mTrue\u001B[39;00m, condition=\u001B[38;5;28mhasattr\u001B[39m(obj, \u001B[33m\"\u001B[39m\u001B[33mas_index\u001B[39m\u001B[33m\"\u001B[39m)\n\u001B[32m   1602\u001B[39m ):\n\u001B[32m-> \u001B[39m\u001B[32m1603\u001B[39m     result_index, result_data = \u001B[38;5;28;43mself\u001B[39;49m\u001B[43m.\u001B[49m\u001B[43mcompute_dict_like\u001B[49m\u001B[43m(\u001B[49m\n\u001B[32m   1604\u001B[39m \u001B[43m        \u001B[49m\u001B[43mop_name\u001B[49m\u001B[43m,\u001B[49m\u001B[43m \u001B[49m\u001B[43mselected_obj\u001B[49m\u001B[43m,\u001B[49m\u001B[43m \u001B[49m\u001B[43mselection\u001B[49m\u001B[43m,\u001B[49m\u001B[43m \u001B[49m\u001B[43mkwargs\u001B[49m\n\u001B[32m   1605\u001B[39m \u001B[43m    \u001B[49m\u001B[43m)\u001B[49m\n\u001B[32m   1606\u001B[39m result = \u001B[38;5;28mself\u001B[39m.wrap_results_dict_like(selected_obj, result_index, result_data)\n\u001B[32m   1607\u001B[39m \u001B[38;5;28;01mreturn\u001B[39;00m result\n",
      "\u001B[36mFile \u001B[39m\u001B[32mD:\\CodeFiles\\Kifiya\\week5\\credit-risk-model\\venv\\Lib\\site-packages\\pandas\\core\\apply.py:497\u001B[39m, in \u001B[36mApply.compute_dict_like\u001B[39m\u001B[34m(self, op_name, selected_obj, selection, kwargs)\u001B[39m\n\u001B[32m    493\u001B[39m         results += key_data\n\u001B[32m    494\u001B[39m \u001B[38;5;28;01melse\u001B[39;00m:\n\u001B[32m    495\u001B[39m     \u001B[38;5;66;03m# key used for column selection and output\u001B[39;00m\n\u001B[32m    496\u001B[39m     results = [\n\u001B[32m--> \u001B[39m\u001B[32m497\u001B[39m         \u001B[38;5;28;43mgetattr\u001B[39;49m\u001B[43m(\u001B[49m\u001B[43mobj\u001B[49m\u001B[43m.\u001B[49m\u001B[43m_gotitem\u001B[49m\u001B[43m(\u001B[49m\u001B[43mkey\u001B[49m\u001B[43m,\u001B[49m\u001B[43m \u001B[49m\u001B[43mndim\u001B[49m\u001B[43m=\u001B[49m\u001B[32;43m1\u001B[39;49m\u001B[43m)\u001B[49m\u001B[43m,\u001B[49m\u001B[43m \u001B[49m\u001B[43mop_name\u001B[49m\u001B[43m)\u001B[49m\u001B[43m(\u001B[49m\u001B[43mhow\u001B[49m\u001B[43m,\u001B[49m\u001B[43m \u001B[49m\u001B[43m*\u001B[49m\u001B[43m*\u001B[49m\u001B[43mkwargs\u001B[49m\u001B[43m)\u001B[49m\n\u001B[32m    498\u001B[39m         \u001B[38;5;28;01mfor\u001B[39;00m key, how \u001B[38;5;129;01min\u001B[39;00m func.items()\n\u001B[32m    499\u001B[39m     ]\n\u001B[32m    500\u001B[39m     keys = \u001B[38;5;28mlist\u001B[39m(func.keys())\n\u001B[32m    502\u001B[39m \u001B[38;5;28;01mreturn\u001B[39;00m keys, results\n",
      "\u001B[36mFile \u001B[39m\u001B[32mD:\\CodeFiles\\Kifiya\\week5\\credit-risk-model\\venv\\Lib\\site-packages\\pandas\\core\\groupby\\generic.py:294\u001B[39m, in \u001B[36mSeriesGroupBy.aggregate\u001B[39m\u001B[34m(self, func, engine, engine_kwargs, *args, **kwargs)\u001B[39m\n\u001B[32m    291\u001B[39m     \u001B[38;5;28;01mreturn\u001B[39;00m \u001B[38;5;28mself\u001B[39m._python_agg_general(func, *args, **kwargs)\n\u001B[32m    293\u001B[39m \u001B[38;5;28;01mtry\u001B[39;00m:\n\u001B[32m--> \u001B[39m\u001B[32m294\u001B[39m     \u001B[38;5;28;01mreturn\u001B[39;00m \u001B[38;5;28;43mself\u001B[39;49m\u001B[43m.\u001B[49m\u001B[43m_python_agg_general\u001B[49m\u001B[43m(\u001B[49m\u001B[43mfunc\u001B[49m\u001B[43m,\u001B[49m\u001B[43m \u001B[49m\u001B[43m*\u001B[49m\u001B[43margs\u001B[49m\u001B[43m,\u001B[49m\u001B[43m \u001B[49m\u001B[43m*\u001B[49m\u001B[43m*\u001B[49m\u001B[43mkwargs\u001B[49m\u001B[43m)\u001B[49m\n\u001B[32m    295\u001B[39m \u001B[38;5;28;01mexcept\u001B[39;00m \u001B[38;5;167;01mKeyError\u001B[39;00m:\n\u001B[32m    296\u001B[39m     \u001B[38;5;66;03m# KeyError raised in test_groupby.test_basic is bc the func does\u001B[39;00m\n\u001B[32m    297\u001B[39m     \u001B[38;5;66;03m#  a dictionary lookup on group.name, but group name is not\u001B[39;00m\n\u001B[32m    298\u001B[39m     \u001B[38;5;66;03m#  pinned in _python_agg_general, only in _aggregate_named\u001B[39;00m\n\u001B[32m    299\u001B[39m     result = \u001B[38;5;28mself\u001B[39m._aggregate_named(func, *args, **kwargs)\n",
      "\u001B[36mFile \u001B[39m\u001B[32mD:\\CodeFiles\\Kifiya\\week5\\credit-risk-model\\venv\\Lib\\site-packages\\pandas\\core\\groupby\\generic.py:327\u001B[39m, in \u001B[36mSeriesGroupBy._python_agg_general\u001B[39m\u001B[34m(self, func, *args, **kwargs)\u001B[39m\n\u001B[32m    324\u001B[39m f = \u001B[38;5;28;01mlambda\u001B[39;00m x: func(x, *args, **kwargs)\n\u001B[32m    326\u001B[39m obj = \u001B[38;5;28mself\u001B[39m._obj_with_exclusions\n\u001B[32m--> \u001B[39m\u001B[32m327\u001B[39m result = \u001B[38;5;28;43mself\u001B[39;49m\u001B[43m.\u001B[49m\u001B[43m_grouper\u001B[49m\u001B[43m.\u001B[49m\u001B[43magg_series\u001B[49m\u001B[43m(\u001B[49m\u001B[43mobj\u001B[49m\u001B[43m,\u001B[49m\u001B[43m \u001B[49m\u001B[43mf\u001B[49m\u001B[43m)\u001B[49m\n\u001B[32m    328\u001B[39m res = obj._constructor(result, name=obj.name)\n\u001B[32m    329\u001B[39m \u001B[38;5;28;01mreturn\u001B[39;00m \u001B[38;5;28mself\u001B[39m._wrap_aggregated_output(res)\n",
      "\u001B[36mFile \u001B[39m\u001B[32mD:\\CodeFiles\\Kifiya\\week5\\credit-risk-model\\venv\\Lib\\site-packages\\pandas\\core\\groupby\\ops.py:864\u001B[39m, in \u001B[36mBaseGrouper.agg_series\u001B[39m\u001B[34m(self, obj, func, preserve_dtype)\u001B[39m\n\u001B[32m    857\u001B[39m \u001B[38;5;28;01mif\u001B[39;00m \u001B[38;5;129;01mnot\u001B[39;00m \u001B[38;5;28misinstance\u001B[39m(obj._values, np.ndarray):\n\u001B[32m    858\u001B[39m     \u001B[38;5;66;03m# we can preserve a little bit more aggressively with EA dtype\u001B[39;00m\n\u001B[32m    859\u001B[39m     \u001B[38;5;66;03m#  because maybe_cast_pointwise_result will do a try/except\u001B[39;00m\n\u001B[32m    860\u001B[39m     \u001B[38;5;66;03m#  with _from_sequence.  NB we are assuming here that _from_sequence\u001B[39;00m\n\u001B[32m    861\u001B[39m     \u001B[38;5;66;03m#  is sufficiently strict that it casts appropriately.\u001B[39;00m\n\u001B[32m    862\u001B[39m     preserve_dtype = \u001B[38;5;28;01mTrue\u001B[39;00m\n\u001B[32m--> \u001B[39m\u001B[32m864\u001B[39m result = \u001B[38;5;28;43mself\u001B[39;49m\u001B[43m.\u001B[49m\u001B[43m_aggregate_series_pure_python\u001B[49m\u001B[43m(\u001B[49m\u001B[43mobj\u001B[49m\u001B[43m,\u001B[49m\u001B[43m \u001B[49m\u001B[43mfunc\u001B[49m\u001B[43m)\u001B[49m\n\u001B[32m    866\u001B[39m npvalues = lib.maybe_convert_objects(result, try_float=\u001B[38;5;28;01mFalse\u001B[39;00m)\n\u001B[32m    867\u001B[39m \u001B[38;5;28;01mif\u001B[39;00m preserve_dtype:\n",
      "\u001B[36mFile \u001B[39m\u001B[32mD:\\CodeFiles\\Kifiya\\week5\\credit-risk-model\\venv\\Lib\\site-packages\\pandas\\core\\groupby\\ops.py:885\u001B[39m, in \u001B[36mBaseGrouper._aggregate_series_pure_python\u001B[39m\u001B[34m(self, obj, func)\u001B[39m\n\u001B[32m    882\u001B[39m splitter = \u001B[38;5;28mself\u001B[39m._get_splitter(obj, axis=\u001B[32m0\u001B[39m)\n\u001B[32m    884\u001B[39m \u001B[38;5;28;01mfor\u001B[39;00m i, group \u001B[38;5;129;01min\u001B[39;00m \u001B[38;5;28menumerate\u001B[39m(splitter):\n\u001B[32m--> \u001B[39m\u001B[32m885\u001B[39m     res = \u001B[43mfunc\u001B[49m\u001B[43m(\u001B[49m\u001B[43mgroup\u001B[49m\u001B[43m)\u001B[49m\n\u001B[32m    886\u001B[39m     res = extract_result(res)\n\u001B[32m    888\u001B[39m     \u001B[38;5;28;01mif\u001B[39;00m \u001B[38;5;129;01mnot\u001B[39;00m initialized:\n\u001B[32m    889\u001B[39m         \u001B[38;5;66;03m# We only do this validation on the first iteration\u001B[39;00m\n",
      "\u001B[36mFile \u001B[39m\u001B[32mD:\\CodeFiles\\Kifiya\\week5\\credit-risk-model\\venv\\Lib\\site-packages\\pandas\\core\\groupby\\generic.py:324\u001B[39m, in \u001B[36mSeriesGroupBy._python_agg_general.<locals>.<lambda>\u001B[39m\u001B[34m(x)\u001B[39m\n\u001B[32m    322\u001B[39m     alias = com._builtin_table_alias[func]\n\u001B[32m    323\u001B[39m     warn_alias_replacement(\u001B[38;5;28mself\u001B[39m, orig_func, alias)\n\u001B[32m--> \u001B[39m\u001B[32m324\u001B[39m f = \u001B[38;5;28;01mlambda\u001B[39;00m x: \u001B[43mfunc\u001B[49m\u001B[43m(\u001B[49m\u001B[43mx\u001B[49m\u001B[43m,\u001B[49m\u001B[43m \u001B[49m\u001B[43m*\u001B[49m\u001B[43margs\u001B[49m\u001B[43m,\u001B[49m\u001B[43m \u001B[49m\u001B[43m*\u001B[49m\u001B[43m*\u001B[49m\u001B[43mkwargs\u001B[49m\u001B[43m)\u001B[49m\n\u001B[32m    326\u001B[39m obj = \u001B[38;5;28mself\u001B[39m._obj_with_exclusions\n\u001B[32m    327\u001B[39m result = \u001B[38;5;28mself\u001B[39m._grouper.agg_series(obj, f)\n",
      "\u001B[36mFile \u001B[39m\u001B[32mD:\\CodeFiles\\Kifiya\\week5\\credit-risk-model\\src\\proxy_target_engineering.py:23\u001B[39m, in \u001B[36mProxyTargetEngineer.compute_rfm.<locals>.<lambda>\u001B[39m\u001B[34m(x)\u001B[39m\n\u001B[32m     19\u001B[39m \u001B[38;5;66;03m# Filter out null dates if any\u001B[39;00m\n\u001B[32m     20\u001B[39m df = df.dropna(subset=[\u001B[33m'\u001B[39m\u001B[33mTransactionStartTime\u001B[39m\u001B[33m'\u001B[39m])\n\u001B[32m     22\u001B[39m rfm = df.groupby(\u001B[33m'\u001B[39m\u001B[33mCustomerId\u001B[39m\u001B[33m'\u001B[39m).agg({\n\u001B[32m---> \u001B[39m\u001B[32m23\u001B[39m     \u001B[33m'\u001B[39m\u001B[33mTransactionStartTime\u001B[39m\u001B[33m'\u001B[39m: \u001B[38;5;28;01mlambda\u001B[39;00m x: (\u001B[38;5;28;43mself\u001B[39;49m\u001B[43m.\u001B[49m\u001B[43msnapshot_date\u001B[49m\u001B[43m \u001B[49m\u001B[43m-\u001B[49m\u001B[43m \u001B[49m\u001B[43mx\u001B[49m\u001B[43m.\u001B[49m\u001B[43mmax\u001B[49m\u001B[43m(\u001B[49m\u001B[43m)\u001B[49m).days,\n\u001B[32m     24\u001B[39m     \u001B[33m'\u001B[39m\u001B[33mTransactionId\u001B[39m\u001B[33m'\u001B[39m: \u001B[33m'\u001B[39m\u001B[33mcount\u001B[39m\u001B[33m'\u001B[39m,\n\u001B[32m     25\u001B[39m     \u001B[33m'\u001B[39m\u001B[33mAmount\u001B[39m\u001B[33m'\u001B[39m: \u001B[33m'\u001B[39m\u001B[33msum\u001B[39m\u001B[33m'\u001B[39m\n\u001B[32m     26\u001B[39m }).rename(columns={\n\u001B[32m     27\u001B[39m     \u001B[33m'\u001B[39m\u001B[33mTransactionStartTime\u001B[39m\u001B[33m'\u001B[39m: \u001B[33m'\u001B[39m\u001B[33mRecency\u001B[39m\u001B[33m'\u001B[39m,\n\u001B[32m     28\u001B[39m     \u001B[33m'\u001B[39m\u001B[33mTransactionId\u001B[39m\u001B[33m'\u001B[39m: \u001B[33m'\u001B[39m\u001B[33mFrequency\u001B[39m\u001B[33m'\u001B[39m,\n\u001B[32m     29\u001B[39m     \u001B[33m'\u001B[39m\u001B[33mAmount\u001B[39m\u001B[33m'\u001B[39m: \u001B[33m'\u001B[39m\u001B[33mMonetary\u001B[39m\u001B[33m'\u001B[39m\n\u001B[32m     30\u001B[39m }).reset_index()\n\u001B[32m     32\u001B[39m \u001B[38;5;28;01mreturn\u001B[39;00m rfm\n",
      "\u001B[36mFile \u001B[39m\u001B[32mpandas/_libs/tslibs/timestamps.pyx:514\u001B[39m, in \u001B[36mpandas._libs.tslibs.timestamps._Timestamp.__sub__\u001B[39m\u001B[34m()\u001B[39m\n",
      "\u001B[31mTypeError\u001B[39m: Cannot subtract tz-naive and tz-aware datetime-like objects."
     ]
    }
   ],
   "execution_count": 12
  },
  {
   "metadata": {},
   "cell_type": "code",
   "source": "",
   "id": "60856653a67253dd",
   "outputs": [],
   "execution_count": null
  }
 ],
 "metadata": {
  "kernelspec": {
   "display_name": "venv",
   "language": "python",
   "name": "python3"
  },
  "language_info": {
   "codemirror_mode": {
    "name": "ipython",
    "version": 3
   },
   "file_extension": ".py",
   "mimetype": "text/x-python",
   "name": "python",
   "nbconvert_exporter": "python",
   "pygments_lexer": "ipython3",
   "version": "3.13.1"
  }
 },
 "nbformat": 4,
 "nbformat_minor": 5
}
